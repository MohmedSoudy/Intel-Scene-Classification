{
 "cells": [
  {
   "cell_type": "code",
   "execution_count": null,
   "metadata": {},
   "outputs": [],
   "source": [
    "#Intel challenge for scene classification\r\n",
    "#Challenge link: https://datahack.analyticsvidhya.com/contest/practice-problem-intel-scene-classification-challe/\r\n",
    "#DataSet link: https://www.kaggle.com/nitishabharathi/scene-classification"
   ]
  },
  {
   "cell_type": "code",
   "execution_count": 1,
   "metadata": {},
   "outputs": [
    {
     "name": "stderr",
     "output_type": "stream",
     "text": [
      "Using TensorFlow backend.\n"
     ]
    }
   ],
   "source": [
    "#Load required packages \r\n",
    "import pandas as pd\r\n",
    "import numpy as np\r\n",
    "import glob\r\n",
    "from keras.preprocessing import image\r\n",
    "from keras.applications.vgg16 import preprocess_input\r\n",
    "from keras.preprocessing.image import ImageDataGenerator\r\n",
    "import os,shutil\r\n",
    "from keras import models,layers,optimizers\r\n",
    "from keras.layers import Dense, Activation, Flatten, Dropout, BatchNormalization\r\n",
    "from keras.layers import Conv2D, MaxPooling2D"
   ]
  },
  {
   "cell_type": "code",
   "execution_count": null,
   "metadata": {},
   "outputs": [],
   "source": [
    "#Reading train data\r\n",
    "df= pd.read_csv(\"train.csv\")\r\n",
    "df = df.replace(0,'buildings').replace(1,'forest').replace(2,'glacier').replace(3,'mountain').replace(4,'sea').replace(5,'street')"
   ]
  }
 ],
 "metadata": {
  "interpreter": {
   "hash": "2120ebe6d687bd7269b14a072cb1f89440c016ed7b19acca32e0959bf7bfd92e"
  },
  "kernelspec": {
   "display_name": "Python 3.7.7 64-bit",
   "name": "python3"
  },
  "language_info": {
   "codemirror_mode": {
    "name": "ipython",
    "version": 3
   },
   "file_extension": ".py",
   "mimetype": "text/x-python",
   "name": "python",
   "nbconvert_exporter": "python",
   "pygments_lexer": "ipython3",
   "version": "3.7.7"
  },
  "orig_nbformat": 4
 },
 "nbformat": 4,
 "nbformat_minor": 2
}