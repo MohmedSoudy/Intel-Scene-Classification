{
 "cells": [
  {
   "cell_type": "code",
   "execution_count": null,
   "source": [
    "#Intel challenge for scene classification\r\n",
    "#Challenge link: https://datahack.analyticsvidhya.com/contest/practice-problem-intel-scene-classification-challe/\r\n",
    "#DataSet link: https://www.kaggle.com/nitishabharathi/scene-classification"
   ],
   "outputs": [],
   "metadata": {}
  },
  {
   "cell_type": "code",
   "execution_count": 1,
   "source": [
    "#Load required packages \r\n",
    "import pandas as pd\r\n",
    "import numpy as np\r\n",
    "import glob\r\n",
    "from tensorflow.keras.preprocessing import image\r\n",
    "from tensorflow.keras.applications.vgg16 import preprocess_input\r\n",
    "from tensorflow.keras.preprocessing.image import ImageDataGenerator\r\n",
    "import os,shutil\r\n",
    "from tensorflow.keras import models,layers,optimizers, Model\r\n",
    "from tensorflow.keras.layers import Dense, Activation, Flatten, Dropout, BatchNormalization\r\n",
    "from tensorflow.keras.layers import Conv2D, MaxPooling2D"
   ],
   "outputs": [],
   "metadata": {}
  },
  {
   "cell_type": "code",
   "execution_count": 2,
   "source": [
    "#Reading train data\r\n",
    "df= pd.read_csv(\"train.csv\")\r\n",
    "df = df.replace(0,'buildings').replace(1,'forest').replace(2,'glacier').replace(3,'mountain').replace(4,'sea').replace(5,'street')"
   ],
   "outputs": [],
   "metadata": {}
  },
  {
   "cell_type": "code",
   "execution_count": 3,
   "source": [
    "#Image Augmentation using keras ImageDataGenerator\r\n",
    "datagen = ImageDataGenerator(rescale=1./255,\r\n",
    "                           shear_range = 0.2,\r\n",
    "                           zoom_range = 0.2,\r\n",
    "                           horizontal_flip=True,\r\n",
    "                           preprocessing_function= preprocess_input,\r\n",
    "                           validation_split=0.25)\r\n",
    "train_generator = datagen.flow_from_dataframe(dataframe=df,\r\n",
    "                        directory=\"train/\",\r\n",
    "                        x_col=\"image_name\",\r\n",
    "                        y_col=\"label\",\r\n",
    "                        subset=\"training\",\r\n",
    "                        batch_size=100,\r\n",
    "                        seed=42,\r\n",
    "                        shuffle=True,\r\n",
    "                        class_mode=\"categorical\",\r\n",
    "                        target_size=(150,150))\r\n",
    "valid_generator = datagen.flow_from_dataframe(dataframe=df,\r\n",
    "                        directory=\"train/\",\r\n",
    "                        x_col=\"image_name\",\r\n",
    "                        y_col=\"label\",\r\n",
    "                        subset=\"validation\", batch_size=10,\r\n",
    "                        seed=42,\r\n",
    "                        shuffle=True,\r\n",
    "                        class_mode=\"categorical\",\r\n",
    "                        target_size=(150,150))"
   ],
   "outputs": [
    {
     "output_type": "stream",
     "name": "stdout",
     "text": [
      "Found 12776 validated image filenames belonging to 6 classes.\n",
      "Found 4258 validated image filenames belonging to 6 classes.\n"
     ]
    }
   ],
   "metadata": {}
  },
  {
   "cell_type": "code",
   "execution_count": 6,
   "source": [
    "#Model construction \r\n",
    "def conv_bn(x):\r\n",
    "    x = layers.Conv2D(filters=64, kernel_size=3, strides=2, padding=\"same\")(x)\r\n",
    "    x = layers.BatchNormalization()(x)\r\n",
    "    return layers.ReLU()(x)\r\n",
    "\r\n",
    "inputs = layers.Input(shape=(150,150, 3))\r\n",
    "x = conv_bn(inputs)\r\n",
    "x = conv_bn(x)\r\n",
    "x = conv_bn(x)\r\n",
    "x = conv_bn(x)\r\n",
    "x = conv_bn(x)\r\n",
    "x = layers.Flatten()(x)\r\n",
    "outputs = layers.Dense(6, activation=\"softmax\")(x)\r\n",
    "model = Model(inputs=inputs, outputs=outputs)\r\n",
    "model.summary()\r\n",
    "model.compile(loss='categorical_crossentropy',optimizer = optimizers.RMSprop(lr=0.01),metrics=['acc'])"
   ],
   "outputs": [
    {
     "output_type": "stream",
     "name": "stdout",
     "text": [
      "Model: \"model_2\"\n",
      "_________________________________________________________________\n",
      "Layer (type)                 Output Shape              Param #   \n",
      "=================================================================\n",
      "input_3 (InputLayer)         [(None, 150, 150, 3)]     0         \n",
      "_________________________________________________________________\n",
      "conv2d_9 (Conv2D)            (None, 75, 75, 64)        1792      \n",
      "_________________________________________________________________\n",
      "batch_normalization_9 (Batch (None, 75, 75, 64)        256       \n",
      "_________________________________________________________________\n",
      "re_lu_9 (ReLU)               (None, 75, 75, 64)        0         \n",
      "_________________________________________________________________\n",
      "conv2d_10 (Conv2D)           (None, 38, 38, 64)        36928     \n",
      "_________________________________________________________________\n",
      "batch_normalization_10 (Batc (None, 38, 38, 64)        256       \n",
      "_________________________________________________________________\n",
      "re_lu_10 (ReLU)              (None, 38, 38, 64)        0         \n",
      "_________________________________________________________________\n",
      "conv2d_11 (Conv2D)           (None, 19, 19, 64)        36928     \n",
      "_________________________________________________________________\n",
      "batch_normalization_11 (Batc (None, 19, 19, 64)        256       \n",
      "_________________________________________________________________\n",
      "re_lu_11 (ReLU)              (None, 19, 19, 64)        0         \n",
      "_________________________________________________________________\n",
      "conv2d_12 (Conv2D)           (None, 10, 10, 64)        36928     \n",
      "_________________________________________________________________\n",
      "batch_normalization_12 (Batc (None, 10, 10, 64)        256       \n",
      "_________________________________________________________________\n",
      "re_lu_12 (ReLU)              (None, 10, 10, 64)        0         \n",
      "_________________________________________________________________\n",
      "conv2d_13 (Conv2D)           (None, 5, 5, 64)          36928     \n",
      "_________________________________________________________________\n",
      "batch_normalization_13 (Batc (None, 5, 5, 64)          256       \n",
      "_________________________________________________________________\n",
      "re_lu_13 (ReLU)              (None, 5, 5, 64)          0         \n",
      "_________________________________________________________________\n",
      "flatten_2 (Flatten)          (None, 1600)              0         \n",
      "_________________________________________________________________\n",
      "dense_2 (Dense)              (None, 6)                 9606      \n",
      "=================================================================\n",
      "Total params: 160,390\n",
      "Trainable params: 159,750\n",
      "Non-trainable params: 640\n",
      "_________________________________________________________________\n"
     ]
    }
   ],
   "metadata": {}
  },
  {
   "cell_type": "code",
   "execution_count": null,
   "source": [
    "#Train the model\r\n",
    "STEP_SIZE_TRAIN=train_generator.n//train_generator.batch_size\r\n",
    "STEP_SIZE_VALID=valid_generator.n//valid_generator.batch_size\r\n",
    "history =model.fit_generator(generator=train_generator,\r\n",
    "                    steps_per_epoch=STEP_SIZE_TRAIN,\r\n",
    "                    validation_data=valid_generator,\r\n",
    "                    validation_steps=STEP_SIZE_VALID,\r\n",
    "                    epochs=100,verbose=1)"
   ],
   "outputs": [],
   "metadata": {}
  },
  {
   "cell_type": "code",
   "execution_count": 1,
   "source": [
    "from tensorflow.keras.models import load_model\r\n",
    "model = load_model(\"RepConv.h5\")\r\n",
    "model.summary()"
   ],
   "outputs": [
    {
     "output_type": "stream",
     "name": "stdout",
     "text": [
      "Model: \"model_9\"\n",
      "_________________________________________________________________\n",
      "Layer (type)                 Output Shape              Param #   \n",
      "=================================================================\n",
      "input_12 (InputLayer)        [(None, 150, 150, 3)]     0         \n",
      "_________________________________________________________________\n",
      "conv2d_31 (Conv2D)           (None, 75, 75, 64)        1792      \n",
      "_________________________________________________________________\n",
      "batch_normalization_31 (Batc (None, 75, 75, 64)        256       \n",
      "_________________________________________________________________\n",
      "re_lu_23 (ReLU)              (None, 75, 75, 64)        0         \n",
      "_________________________________________________________________\n",
      "conv2d_32 (Conv2D)           (None, 38, 38, 64)        36928     \n",
      "_________________________________________________________________\n",
      "batch_normalization_32 (Batc (None, 38, 38, 64)        256       \n",
      "_________________________________________________________________\n",
      "re_lu_24 (ReLU)              (None, 38, 38, 64)        0         \n",
      "_________________________________________________________________\n",
      "conv2d_33 (Conv2D)           (None, 19, 19, 64)        36928     \n",
      "_________________________________________________________________\n",
      "batch_normalization_33 (Batc (None, 19, 19, 64)        256       \n",
      "_________________________________________________________________\n",
      "re_lu_25 (ReLU)              (None, 19, 19, 64)        0         \n",
      "_________________________________________________________________\n",
      "conv2d_34 (Conv2D)           (None, 10, 10, 64)        36928     \n",
      "_________________________________________________________________\n",
      "batch_normalization_34 (Batc (None, 10, 10, 64)        256       \n",
      "_________________________________________________________________\n",
      "re_lu_26 (ReLU)              (None, 10, 10, 64)        0         \n",
      "_________________________________________________________________\n",
      "conv2d_35 (Conv2D)           (None, 5, 5, 64)          36928     \n",
      "_________________________________________________________________\n",
      "batch_normalization_35 (Batc (None, 5, 5, 64)          256       \n",
      "_________________________________________________________________\n",
      "re_lu_27 (ReLU)              (None, 5, 5, 64)          0         \n",
      "_________________________________________________________________\n",
      "flatten_10 (Flatten)         (None, 1600)              0         \n",
      "_________________________________________________________________\n",
      "dense_9 (Dense)              (None, 6)                 9606      \n",
      "=================================================================\n",
      "Total params: 160,390\n",
      "Trainable params: 159,750\n",
      "Non-trainable params: 640\n",
      "_________________________________________________________________\n"
     ]
    }
   ],
   "metadata": {}
  }
 ],
 "metadata": {
  "interpreter": {
   "hash": "2120ebe6d687bd7269b14a072cb1f89440c016ed7b19acca32e0959bf7bfd92e"
  },
  "kernelspec": {
   "display_name": "Python 3.7.7 64-bit",
   "name": "python3"
  },
  "language_info": {
   "codemirror_mode": {
    "name": "ipython",
    "version": 3
   },
   "file_extension": ".py",
   "mimetype": "text/x-python",
   "name": "python",
   "nbconvert_exporter": "python",
   "pygments_lexer": "ipython3",
   "version": "3.7.7"
  },
  "orig_nbformat": 4
 },
 "nbformat": 4,
 "nbformat_minor": 2
}